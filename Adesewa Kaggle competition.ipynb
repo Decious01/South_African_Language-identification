{
 "cells": [
  {
   "cell_type": "markdown",
   "id": "d0ada8d3",
   "metadata": {},
   "source": [
    "EXPLORE Data Science Academy Classification Hackathon\n",
    "\n",
    "South African Language Identification Hack 2022\n",
    "\n",
    "Overview\n",
    "\n",
    "South Africa is a multicultural society that is characterised by its rich linguistic diversity. Language is an indispensable tool that can be used to deepen democracy and also contribute to the social, cultural, intellectual, economic and political life of the South African society.\n",
    "\n",
    "The country is multilingual with 11 official languages, each of which is guaranteed equal status. Most South Africans are multilingual and able to speak at least two or more of the official languages.\n"
   ]
  },
  {
   "cell_type": "markdown",
   "id": "ead37aa4",
   "metadata": {},
   "source": [
    "With such a multilingual population, it is only obvious that our systems and devices also communicate in multi-languages.\n",
    "\n",
    "In this challenge, we take text which is in any of South Africa's 11 Official languages and identify which language the text is in. This is an example of NLP's Language Identification, the task of determining the natural language that a piece of text is written in."
   ]
  },
  {
   "cell_type": "markdown",
   "id": "ffee3a69",
   "metadata": {},
   "source": [
    "# Importing Libraries"
   ]
  },
  {
   "cell_type": "code",
   "execution_count": 1,
   "id": "deeff3fb",
   "metadata": {},
   "outputs": [],
   "source": [
    "# Cleaning the Text Data\n",
    "\n",
    "import nltk\n",
    "import pandas as pd \n",
    "import numpy as np\n",
    "import matplotlib.pyplot as  plt\n",
    "%matplotlib inline\n",
    "import seaborn as sns\n",
    "import re \n",
    "import string\n",
    "from nltk.tokenize import word_tokenize, TreebankWordTokenizer\n",
    "from nltk.stem import WordNetLemmatizer\n",
    "from sklearn.utils import resample\n",
    "from sklearn.preprocessing import LabelEncoder\n",
    "from sklearn.feature_extraction.text import TfidfVectorizer\n",
    "\n",
    "\n",
    "# Model building\n",
    "\n",
    "from sklearn.pipeline import Pipeline\n",
    "from sklearn.feature_extraction.text import CountVectorizer\n",
    "from sklearn.feature_extraction.text import TfidfVectorizer\n",
    "from sklearn.feature_extraction.text import TfidfTransformer\n",
    "from sklearn.model_selection import train_test_split\n",
    "from sklearn.model_selection import RandomizedSearchCV\n",
    "from sklearn.ensemble import RandomForestClassifier\n",
    "from sklearn.naive_bayes import MultinomialNB\n",
    "from sklearn.svm import SVC\n",
    "from sklearn.linear_model import LogisticRegression\n",
    "from sklearn.model_selection import GridSearchCV, KFold, cross_val_score\n",
    "\n",
    "# Model evaluation\n",
    "\n",
    "from sklearn import metrics\n",
    "from sklearn.metrics import classification_report, confusion_matrix, f1_score, precision_score, recall_score\n",
    "\n",
    "# Warnigs\n",
    "import warnings\n",
    "warnings.filterwarnings(\"ignore\")\n",
    "\n",
    "# set plot style\n",
    "sns.set()"
   ]
  },
  {
   "cell_type": "markdown",
   "id": "e8ff51e0",
   "metadata": {},
   "source": [
    "# Exploring The Data"
   ]
  },
  {
   "cell_type": "code",
   "execution_count": 14,
   "id": "dd85cb75",
   "metadata": {},
   "outputs": [],
   "source": [
    "#Importing the given train data\n",
    "\n",
    "df_train = pd.read_csv(r'C:\\train_set.csv') \n",
    "\n",
    "df_test = pd.read_csv(r'C:\\test_set.csv')\n",
    "\n"
   ]
  },
  {
   "cell_type": "code",
   "execution_count": 6,
   "id": "08801255",
   "metadata": {},
   "outputs": [
    {
     "data": {
      "text/html": [
       "<div>\n",
       "<style scoped>\n",
       "    .dataframe tbody tr th:only-of-type {\n",
       "        vertical-align: middle;\n",
       "    }\n",
       "\n",
       "    .dataframe tbody tr th {\n",
       "        vertical-align: top;\n",
       "    }\n",
       "\n",
       "    .dataframe thead th {\n",
       "        text-align: right;\n",
       "    }\n",
       "</style>\n",
       "<table border=\"1\" class=\"dataframe\">\n",
       "  <thead>\n",
       "    <tr style=\"text-align: right;\">\n",
       "      <th></th>\n",
       "      <th>lang_id</th>\n",
       "      <th>text</th>\n",
       "    </tr>\n",
       "  </thead>\n",
       "  <tbody>\n",
       "    <tr>\n",
       "      <th>0</th>\n",
       "      <td>xho</td>\n",
       "      <td>umgaqo-siseko wenza amalungiselelo kumaziko ax...</td>\n",
       "    </tr>\n",
       "    <tr>\n",
       "      <th>1</th>\n",
       "      <td>xho</td>\n",
       "      <td>i-dha iya kuba nobulumko bokubeka umsebenzi na...</td>\n",
       "    </tr>\n",
       "    <tr>\n",
       "      <th>2</th>\n",
       "      <td>eng</td>\n",
       "      <td>the province of kwazulu-natal department of tr...</td>\n",
       "    </tr>\n",
       "    <tr>\n",
       "      <th>3</th>\n",
       "      <td>nso</td>\n",
       "      <td>o netefatša gore o ba file dilo ka moka tše le...</td>\n",
       "    </tr>\n",
       "    <tr>\n",
       "      <th>4</th>\n",
       "      <td>ven</td>\n",
       "      <td>khomishini ya ndinganyiso ya mbeu yo ewa maana...</td>\n",
       "    </tr>\n",
       "  </tbody>\n",
       "</table>\n",
       "</div>"
      ],
      "text/plain": [
       "  lang_id                                               text\n",
       "0     xho  umgaqo-siseko wenza amalungiselelo kumaziko ax...\n",
       "1     xho  i-dha iya kuba nobulumko bokubeka umsebenzi na...\n",
       "2     eng  the province of kwazulu-natal department of tr...\n",
       "3     nso  o netefatša gore o ba file dilo ka moka tše le...\n",
       "4     ven  khomishini ya ndinganyiso ya mbeu yo ewa maana..."
      ]
     },
     "execution_count": 6,
     "metadata": {},
     "output_type": "execute_result"
    }
   ],
   "source": [
    "# Checking the first five rows to understand the structure of the data\n",
    "\n",
    "df_train.head() "
   ]
  },
  {
   "cell_type": "code",
   "execution_count": 7,
   "id": "60aeef75",
   "metadata": {},
   "outputs": [
    {
     "data": {
      "text/plain": [
       "lang_id    0\n",
       "text       0\n",
       "dtype: int64"
      ]
     },
     "execution_count": 7,
     "metadata": {},
     "output_type": "execute_result"
    }
   ],
   "source": [
    "#checking for null values in the train data\n",
    "\n",
    "df_train.isnull().sum() "
   ]
  },
  {
   "cell_type": "code",
   "execution_count": 8,
   "id": "25ede24f",
   "metadata": {},
   "outputs": [
    {
     "data": {
      "text/plain": [
       "(33000, 2)"
      ]
     },
     "execution_count": 8,
     "metadata": {},
     "output_type": "execute_result"
    }
   ],
   "source": [
    "#Checking the train data size - Number of rows and columns\n",
    "\n",
    "df_train.shape "
   ]
  },
  {
   "cell_type": "code",
   "execution_count": 9,
   "id": "a06ed041",
   "metadata": {},
   "outputs": [
    {
     "name": "stdout",
     "output_type": "stream",
     "text": [
      "<class 'pandas.core.frame.DataFrame'>\n",
      "RangeIndex: 33000 entries, 0 to 32999\n",
      "Data columns (total 2 columns):\n",
      " #   Column   Non-Null Count  Dtype \n",
      "---  ------   --------------  ----- \n",
      " 0   lang_id  33000 non-null  object\n",
      " 1   text     33000 non-null  object\n",
      "dtypes: object(2)\n",
      "memory usage: 515.8+ KB\n"
     ]
    }
   ],
   "source": [
    "#Checking the data types for each column in the train data\n",
    "\n",
    "df_train.info() "
   ]
  },
  {
   "cell_type": "code",
   "execution_count": 10,
   "id": "8a6843b9",
   "metadata": {},
   "outputs": [
    {
     "name": "stdout",
     "output_type": "stream",
     "text": [
      "['xho', 'eng', 'nso', 'ven', 'tsn', 'nbl', 'zul', 'ssw', 'tso', 'sot', 'afr']\n"
     ]
    }
   ],
   "source": [
    "#Viewing the number of Unique language IDs [lang_id] in our train data\n",
    "\n",
    "type_sentiment = list(df_train.lang_id.unique())\n",
    "print(type_sentiment) "
   ]
  },
  {
   "cell_type": "code",
   "execution_count": 11,
   "id": "53833962",
   "metadata": {},
   "outputs": [
    {
     "data": {
      "text/plain": [
       "xho    3000\n",
       "eng    3000\n",
       "nso    3000\n",
       "ven    3000\n",
       "tsn    3000\n",
       "nbl    3000\n",
       "zul    3000\n",
       "ssw    3000\n",
       "tso    3000\n",
       "sot    3000\n",
       "afr    3000\n",
       "Name: lang_id, dtype: int64"
      ]
     },
     "execution_count": 11,
     "metadata": {},
     "output_type": "execute_result"
    }
   ],
   "source": [
    "#Viewing the number of observations for the each language ID\n",
    "\n",
    "df_train['lang_id'].value_counts() \n"
   ]
  },
  {
   "cell_type": "code",
   "execution_count": 12,
   "id": "7d6a6554",
   "metadata": {},
   "outputs": [
    {
     "data": {
      "image/png": "[encoded data removed]",
      "text/plain": [
       "<Figure size 432x288 with 1 Axes>"
      ]
     },
     "metadata": {},
     "output_type": "display_data"
    }
   ],
   "source": [
    "# Viewing text count by language IDs\n",
    "\n",
    "sum_df_train = df_train[['lang_id', 'text']].groupby('lang_id').count()\n",
    "\n",
    "sum_df_train.sort_values('text', ascending=False).plot(kind='bar')\n",
    "\n",
    "plt.show()"
   ]
  },
  {
   "cell_type": "markdown",
   "id": "12a285c7",
   "metadata": {},
   "source": [
    "The data is evenly distributed."
   ]
  },
  {
   "cell_type": "markdown",
   "id": "95dbd299",
   "metadata": {},
   "source": [
    "# Data Cleaning"
   ]
  },
  {
   "cell_type": "code",
   "execution_count": 13,
   "id": "97b8582d",
   "metadata": {},
   "outputs": [],
   "source": [
    "#Dataset Cleaning Function\n",
    "\n",
    "def Cleantext(text):\n",
    "    # Converts from upper case to lower case\n",
    "    text = text.lower()\n",
    "    # removing numbers\n",
    "    text = re.sub(r'\\d+','',text)\n",
    "    # removes punctuation\n",
    "    text = ''.join([l for l in text if l not in string.punctuation])   \n",
    "    # Removes extra white space\n",
    "    text = re.sub(r'\\s\\s+','',text)\n",
    "\n",
    "    return text\n"
   ]
  },
  {
   "cell_type": "code",
   "execution_count": 15,
   "id": "55a1b1aa",
   "metadata": {},
   "outputs": [],
   "source": [
    "# Applying the Dataset Cleaning Function\n",
    "\n",
    "df_train['text'] = df_train['text'].apply(Cleantext) \n",
    "\n",
    "df_test['text'] = df_test['text'].apply(Cleantext)\n"
   ]
  },
  {
   "cell_type": "markdown",
   "id": "28cc0944",
   "metadata": {},
   "source": [
    "Tokenizing the texts"
   ]
  },
  {
   "cell_type": "code",
   "execution_count": 16,
   "id": "e15e5d11",
   "metadata": {},
   "outputs": [],
   "source": [
    "tokeniser = TreebankWordTokenizer()\n",
    "\n",
    "df_train['tokens'] = df_train['text'].apply(tokeniser.tokenize)\n",
    "\n",
    "df_test['tokens'] = df_test['text'].apply(tokeniser.tokenize)\n"
   ]
  },
  {
   "cell_type": "code",
   "execution_count": 17,
   "id": "3aaa4e6d",
   "metadata": {},
   "outputs": [
    {
     "data": {
      "text/html": [
       "<div>\n",
       "<style scoped>\n",
       "    .dataframe tbody tr th:only-of-type {\n",
       "        vertical-align: middle;\n",
       "    }\n",
       "\n",
       "    .dataframe tbody tr th {\n",
       "        vertical-align: top;\n",
       "    }\n",
       "\n",
       "    .dataframe thead th {\n",
       "        text-align: right;\n",
       "    }\n",
       "</style>\n",
       "<table border=\"1\" class=\"dataframe\">\n",
       "  <thead>\n",
       "    <tr style=\"text-align: right;\">\n",
       "      <th></th>\n",
       "      <th>lang_id</th>\n",
       "      <th>text</th>\n",
       "      <th>tokens</th>\n",
       "    </tr>\n",
       "  </thead>\n",
       "  <tbody>\n",
       "    <tr>\n",
       "      <th>0</th>\n",
       "      <td>xho</td>\n",
       "      <td>umgaqosiseko wenza amalungiselelo kumaziko axh...</td>\n",
       "      <td>[umgaqosiseko, wenza, amalungiselelo, kumaziko...</td>\n",
       "    </tr>\n",
       "    <tr>\n",
       "      <th>1</th>\n",
       "      <td>xho</td>\n",
       "      <td>idha iya kuba nobulumko bokubeka umsebenzi nap...</td>\n",
       "      <td>[idha, iya, kuba, nobulumko, bokubeka, umseben...</td>\n",
       "    </tr>\n",
       "    <tr>\n",
       "      <th>2</th>\n",
       "      <td>eng</td>\n",
       "      <td>the province of kwazulunatal department of tra...</td>\n",
       "      <td>[the, province, of, kwazulunatal, department, ...</td>\n",
       "    </tr>\n",
       "    <tr>\n",
       "      <th>3</th>\n",
       "      <td>nso</td>\n",
       "      <td>o netefatša gore o ba file dilo ka moka tše le...</td>\n",
       "      <td>[o, netefatša, gore, o, ba, file, dilo, ka, mo...</td>\n",
       "    </tr>\n",
       "    <tr>\n",
       "      <th>4</th>\n",
       "      <td>ven</td>\n",
       "      <td>khomishini ya ndinganyiso ya mbeu yo ewa maana...</td>\n",
       "      <td>[khomishini, ya, ndinganyiso, ya, mbeu, yo, ew...</td>\n",
       "    </tr>\n",
       "  </tbody>\n",
       "</table>\n",
       "</div>"
      ],
      "text/plain": [
       "  lang_id                                               text  \\\n",
       "0     xho  umgaqosiseko wenza amalungiselelo kumaziko axh...   \n",
       "1     xho  idha iya kuba nobulumko bokubeka umsebenzi nap...   \n",
       "2     eng  the province of kwazulunatal department of tra...   \n",
       "3     nso  o netefatša gore o ba file dilo ka moka tše le...   \n",
       "4     ven  khomishini ya ndinganyiso ya mbeu yo ewa maana...   \n",
       "\n",
       "                                              tokens  \n",
       "0  [umgaqosiseko, wenza, amalungiselelo, kumaziko...  \n",
       "1  [idha, iya, kuba, nobulumko, bokubeka, umseben...  \n",
       "2  [the, province, of, kwazulunatal, department, ...  \n",
       "3  [o, netefatša, gore, o, ba, file, dilo, ka, mo...  \n",
       "4  [khomishini, ya, ndinganyiso, ya, mbeu, yo, ew...  "
      ]
     },
     "execution_count": 17,
     "metadata": {},
     "output_type": "execute_result"
    }
   ],
   "source": [
    "#View tokenization\n",
    "\n",
    "df_train.head() \n"
   ]
  },
  {
   "cell_type": "code",
   "execution_count": 18,
   "id": "bf6c9292",
   "metadata": {},
   "outputs": [],
   "source": [
    "#Converting the tokens column from list to string\n",
    "\n",
    "df_train['tokens'] = df_train['tokens'].apply(lambda x: ' '.join(map(str, x)))\n",
    "\n",
    "df_test['tokens'] = df_train['tokens'].apply(lambda x: ' '.join(map(str, x)))\n"
   ]
  },
  {
   "cell_type": "code",
   "execution_count": 19,
   "id": "9f5a4c3c",
   "metadata": {
    "scrolled": true
   },
   "outputs": [
    {
     "data": {
      "text/html": [
       "<div>\n",
       "<style scoped>\n",
       "    .dataframe tbody tr th:only-of-type {\n",
       "        vertical-align: middle;\n",
       "    }\n",
       "\n",
       "    .dataframe tbody tr th {\n",
       "        vertical-align: top;\n",
       "    }\n",
       "\n",
       "    .dataframe thead th {\n",
       "        text-align: right;\n",
       "    }\n",
       "</style>\n",
       "<table border=\"1\" class=\"dataframe\">\n",
       "  <thead>\n",
       "    <tr style=\"text-align: right;\">\n",
       "      <th></th>\n",
       "      <th>lang_id</th>\n",
       "      <th>text</th>\n",
       "      <th>tokens</th>\n",
       "    </tr>\n",
       "  </thead>\n",
       "  <tbody>\n",
       "    <tr>\n",
       "      <th>0</th>\n",
       "      <td>xho</td>\n",
       "      <td>umgaqosiseko wenza amalungiselelo kumaziko axh...</td>\n",
       "      <td>umgaqosiseko wenza amalungiselelo kumaziko axh...</td>\n",
       "    </tr>\n",
       "    <tr>\n",
       "      <th>1</th>\n",
       "      <td>xho</td>\n",
       "      <td>idha iya kuba nobulumko bokubeka umsebenzi nap...</td>\n",
       "      <td>idha iya kuba nobulumko bokubeka umsebenzi nap...</td>\n",
       "    </tr>\n",
       "    <tr>\n",
       "      <th>2</th>\n",
       "      <td>eng</td>\n",
       "      <td>the province of kwazulunatal department of tra...</td>\n",
       "      <td>the province of kwazulunatal department of tra...</td>\n",
       "    </tr>\n",
       "    <tr>\n",
       "      <th>3</th>\n",
       "      <td>nso</td>\n",
       "      <td>o netefatša gore o ba file dilo ka moka tše le...</td>\n",
       "      <td>o netefatša gore o ba file dilo ka moka tše le...</td>\n",
       "    </tr>\n",
       "    <tr>\n",
       "      <th>4</th>\n",
       "      <td>ven</td>\n",
       "      <td>khomishini ya ndinganyiso ya mbeu yo ewa maana...</td>\n",
       "      <td>khomishini ya ndinganyiso ya mbeu yo ewa maana...</td>\n",
       "    </tr>\n",
       "  </tbody>\n",
       "</table>\n",
       "</div>"
      ],
      "text/plain": [
       "  lang_id                                               text  \\\n",
       "0     xho  umgaqosiseko wenza amalungiselelo kumaziko axh...   \n",
       "1     xho  idha iya kuba nobulumko bokubeka umsebenzi nap...   \n",
       "2     eng  the province of kwazulunatal department of tra...   \n",
       "3     nso  o netefatša gore o ba file dilo ka moka tše le...   \n",
       "4     ven  khomishini ya ndinganyiso ya mbeu yo ewa maana...   \n",
       "\n",
       "                                              tokens  \n",
       "0  umgaqosiseko wenza amalungiselelo kumaziko axh...  \n",
       "1  idha iya kuba nobulumko bokubeka umsebenzi nap...  \n",
       "2  the province of kwazulunatal department of tra...  \n",
       "3  o netefatša gore o ba file dilo ka moka tše le...  \n",
       "4  khomishini ya ndinganyiso ya mbeu yo ewa maana...  "
      ]
     },
     "execution_count": 19,
     "metadata": {},
     "output_type": "execute_result"
    }
   ],
   "source": [
    "#Confirming the transformation\n",
    "\n",
    "df_train.head() "
   ]
  },
  {
   "cell_type": "markdown",
   "id": "91ad952f",
   "metadata": {},
   "source": [
    "Vectorizing The Text (Converting Text to Numbers)"
   ]
  },
  {
   "cell_type": "code",
   "execution_count": 42,
   "id": "eb4083ab",
   "metadata": {},
   "outputs": [],
   "source": [
    "#Vectorizing the tokens column of the data-sets\n",
    "\n",
    "vect = CountVectorizer() \n",
    "\n",
    "X_count = vect.fit_transform(df_train['tokens'].values.astype(str)) \n",
    "\n",
    "x_test = vect.transform(df_test['tokens'].values.astype(str))"
   ]
  },
  {
   "cell_type": "code",
   "execution_count": 43,
   "id": "b1150975",
   "metadata": {},
   "outputs": [
    {
     "data": {
      "text/plain": [
       "(33000, 145284)"
      ]
     },
     "execution_count": 43,
     "metadata": {},
     "output_type": "execute_result"
    }
   ],
   "source": [
    "#Checking the shape of the result\n",
    "\n",
    "X_count.shape"
   ]
  },
  {
   "cell_type": "markdown",
   "id": "cd43db98",
   "metadata": {},
   "source": [
    "Encoding the lang_id column of the train data"
   ]
  },
  {
   "cell_type": "code",
   "execution_count": 22,
   "id": "242cd34e",
   "metadata": {},
   "outputs": [],
   "source": [
    "le = LabelEncoder()\n",
    "\n",
    "# Fit label encoder and return encoded labels\n",
    "\n",
    "y = le.fit_transform(df_train['lang_id'])"
   ]
  },
  {
   "cell_type": "code",
   "execution_count": 23,
   "id": "c134d433",
   "metadata": {},
   "outputs": [],
   "source": [
    "# List of label encoder types to use for lookup \n",
    "\n",
    "type_labels = [x for x in list(le.classes_)] \n"
   ]
  },
  {
   "cell_type": "code",
   "execution_count": 24,
   "id": "b48f82fa",
   "metadata": {},
   "outputs": [
    {
     "data": {
      "text/plain": [
       "['afr', 'eng', 'nbl', 'nso', 'sot', 'ssw', 'tsn', 'tso', 'ven', 'xho', 'zul']"
      ]
     },
     "execution_count": 24,
     "metadata": {},
     "output_type": "execute_result"
    }
   ],
   "source": [
    "#Checking the created list\n",
    "\n",
    "type_labels \n"
   ]
  },
  {
   "cell_type": "code",
   "execution_count": 25,
   "id": "6b5dea91",
   "metadata": {},
   "outputs": [
    {
     "data": {
      "text/plain": [
       "(33000,)"
      ]
     },
     "execution_count": 25,
     "metadata": {},
     "output_type": "execute_result"
    }
   ],
   "source": [
    "#Checking the shape\n",
    "\n",
    "y.shape "
   ]
  },
  {
   "cell_type": "code",
   "execution_count": 26,
   "id": "83ec4f65",
   "metadata": {},
   "outputs": [],
   "source": [
    "#Spliting of train and test data\n",
    "\n",
    "X_train, X_test, y_train, y_test = train_test_split(X_count, y, test_size=0.2, random_state=27) "
   ]
  },
  {
   "cell_type": "code",
   "execution_count": 27,
   "id": "58195bbc",
   "metadata": {},
   "outputs": [],
   "source": [
    "#Creating a dictionary of encoded labels for easy matching\n",
    "\n",
    "le_name_mapping = dict(zip(le.classes_, le.transform(le.classes_))) \n"
   ]
  },
  {
   "cell_type": "code",
   "execution_count": 28,
   "id": "c46ae1bc",
   "metadata": {},
   "outputs": [
    {
     "data": {
      "text/plain": [
       "{'afr': 0,\n",
       " 'eng': 1,\n",
       " 'nbl': 2,\n",
       " 'nso': 3,\n",
       " 'sot': 4,\n",
       " 'ssw': 5,\n",
       " 'tsn': 6,\n",
       " 'tso': 7,\n",
       " 'ven': 8,\n",
       " 'xho': 9,\n",
       " 'zul': 10}"
      ]
     },
     "execution_count": 28,
     "metadata": {},
     "output_type": "execute_result"
    }
   ],
   "source": [
    "#Checking the created dictionary\n",
    "\n",
    "le_name_mapping "
   ]
  },
  {
   "cell_type": "markdown",
   "id": "0f67edf6",
   "metadata": {},
   "source": [
    "# Model Building"
   ]
  },
  {
   "cell_type": "markdown",
   "id": "23a7de39",
   "metadata": {},
   "source": [
    "Logistic Regression model"
   ]
  },
  {
   "cell_type": "code",
   "execution_count": 29,
   "id": "2209484a",
   "metadata": {},
   "outputs": [],
   "source": [
    "#Setting up the classifier \n",
    "lm = LogisticRegression() \n",
    "\n",
    "#Training the model\n",
    "lm.fit(X_train, y_train) \n",
    "\n",
    "#Generating predictions\n",
    "pred_lm = lm.predict(X_test) "
   ]
  },
  {
   "cell_type": "code",
   "execution_count": 30,
   "id": "b33a5307",
   "metadata": {},
   "outputs": [
    {
     "name": "stdout",
     "output_type": "stream",
     "text": [
      "Weighted f1_score: 0.9940860859359021\n",
      "\n",
      "\n",
      "Classification Report:\n",
      "\n",
      "               precision    recall  f1-score   support\n",
      "\n",
      "         afr       1.00      1.00      1.00       632\n",
      "         eng       1.00      1.00      1.00       595\n",
      "         nbl       0.99      0.98      0.98       607\n",
      "         nso       1.00      0.99      1.00       573\n",
      "         sot       1.00      1.00      1.00       572\n",
      "         ssw       0.99      1.00      0.99       647\n",
      "         tsn       1.00      1.00      1.00       568\n",
      "         tso       1.00      1.00      1.00       576\n",
      "         ven       1.00      1.00      1.00       601\n",
      "         xho       0.98      0.99      0.99       598\n",
      "         zul       0.98      0.98      0.98       631\n",
      "\n",
      "    accuracy                           0.99      6600\n",
      "   macro avg       0.99      0.99      0.99      6600\n",
      "weighted avg       0.99      0.99      0.99      6600\n",
      "\n"
     ]
    }
   ],
   "source": [
    "print(\"Weighted f1_score:\", f1_score(y_test, pred_lm, average='weighted'))\n",
    "\n",
    "print(\"\\n\\nClassification Report:\\n\\n\", classification_report(y_test, pred_lm, target_names=type_labels))"
   ]
  },
  {
   "cell_type": "markdown",
   "id": "02d0f32e",
   "metadata": {},
   "source": [
    "SVM model"
   ]
  },
  {
   "cell_type": "code",
   "execution_count": 31,
   "id": "d0325b14",
   "metadata": {},
   "outputs": [],
   "source": [
    "#Setting up the classifier\n",
    "svc = SVC() \n",
    "\n",
    "#Training the model\n",
    "svc.fit(X_train, y_train) \n",
    "\n",
    "#Generating predictions\n",
    "svc_pred = svc.predict(X_test) "
   ]
  },
  {
   "cell_type": "code",
   "execution_count": 32,
   "id": "b7fd7b3c",
   "metadata": {},
   "outputs": [
    {
     "name": "stdout",
     "output_type": "stream",
     "text": [
      "Weighted f1_score: 0.9918083363172638\n",
      "\n",
      "\n",
      "Classification Report:\n",
      "\n",
      "               precision    recall  f1-score   support\n",
      "\n",
      "         afr       1.00      1.00      1.00       632\n",
      "         eng       0.99      1.00      1.00       595\n",
      "         nbl       0.99      0.97      0.98       607\n",
      "         nso       1.00      0.99      1.00       573\n",
      "         sot       1.00      1.00      1.00       572\n",
      "         ssw       0.99      1.00      0.99       647\n",
      "         tsn       0.99      1.00      1.00       568\n",
      "         tso       1.00      1.00      1.00       576\n",
      "         ven       1.00      1.00      1.00       601\n",
      "         xho       0.97      0.99      0.98       598\n",
      "         zul       0.97      0.97      0.97       631\n",
      "\n",
      "    accuracy                           0.99      6600\n",
      "   macro avg       0.99      0.99      0.99      6600\n",
      "weighted avg       0.99      0.99      0.99      6600\n",
      "\n"
     ]
    }
   ],
   "source": [
    "print(\"Weighted f1_score:\",f1_score(y_test, svc_pred, average='weighted'))\n",
    "\n",
    "print(\"\\n\\nClassification Report:\\n\\n\", classification_report(y_test, svc_pred, target_names=type_labels))"
   ]
  },
  {
   "cell_type": "markdown",
   "id": "6c5233f8",
   "metadata": {},
   "source": [
    "Multinomial Naive Bayes Model"
   ]
  },
  {
   "cell_type": "code",
   "execution_count": 33,
   "id": "57e8115d",
   "metadata": {},
   "outputs": [],
   "source": [
    "#Setting up the classifier\n",
    "\n",
    "model = MultinomialNB() \n",
    "\n",
    "#Training the model\n",
    "model.fit(X_train, y_train) \n",
    "\n",
    "#Generating predictions\n",
    "y_pred = model.predict(X_test) "
   ]
  },
  {
   "cell_type": "code",
   "execution_count": 34,
   "id": "54fc75b1",
   "metadata": {},
   "outputs": [
    {
     "name": "stdout",
     "output_type": "stream",
     "text": [
      "Weighted f1_score: 0.9984837203377328\n",
      "\n",
      "\n",
      "Classification Report:\n",
      "\n",
      "               precision    recall  f1-score   support\n",
      "\n",
      "         afr       1.00      1.00      1.00       632\n",
      "         eng       0.99      1.00      1.00       595\n",
      "         nbl       1.00      1.00      1.00       607\n",
      "         nso       1.00      1.00      1.00       573\n",
      "         sot       1.00      1.00      1.00       572\n",
      "         ssw       1.00      1.00      1.00       647\n",
      "         tsn       1.00      1.00      1.00       568\n",
      "         tso       1.00      1.00      1.00       576\n",
      "         ven       1.00      1.00      1.00       601\n",
      "         xho       1.00      1.00      1.00       598\n",
      "         zul       1.00      0.99      0.99       631\n",
      "\n",
      "    accuracy                           1.00      6600\n",
      "   macro avg       1.00      1.00      1.00      6600\n",
      "weighted avg       1.00      1.00      1.00      6600\n",
      "\n"
     ]
    }
   ],
   "source": [
    "print(\"Weighted f1_score:\", f1_score(y_test, y_pred, average='weighted'))\n",
    "\n",
    "print(\"\\n\\nClassification Report:\\n\\n\", classification_report(y_test, y_pred, target_names=type_labels))\n"
   ]
  },
  {
   "cell_type": "markdown",
   "id": "31b55037",
   "metadata": {},
   "source": [
    "Best Performing Model"
   ]
  },
  {
   "cell_type": "markdown",
   "id": "f311e6e8",
   "metadata": {},
   "source": [
    "From the above classification reports, the best performing model is the Multinomial Naive Bayes with a Weighted F1 Score of 99.8% followed closely by Logistic Regression and Support Vector Machine.\n",
    "\n",
    "We will proceed by applying hyperparameter tunining to the highest performing model (Multinomial Naive Bayes)."
   ]
  },
  {
   "cell_type": "markdown",
   "id": "afd5556e",
   "metadata": {},
   "source": [
    "Hyperparameter Tuning on the best Performing Model"
   ]
  },
  {
   "cell_type": "code",
   "execution_count": 36,
   "id": "86f241cd",
   "metadata": {},
   "outputs": [],
   "source": [
    "# Refining the train-test split for validation\n",
    "\n",
    "X_train1, X_test1, y_train1, y_test1 = train_test_split(X_count, y, test_size=0.01)\n"
   ]
  },
  {
   "cell_type": "code",
   "execution_count": 37,
   "id": "87c42562",
   "metadata": {},
   "outputs": [
    {
     "name": "stdout",
     "output_type": "stream",
     "text": [
      "              precision    recall  f1-score   support\n",
      "\n",
      "           0       1.00      1.00      1.00       632\n",
      "           1       1.00      1.00      1.00       595\n",
      "           2       1.00      1.00      1.00       607\n",
      "           3       1.00      1.00      1.00       573\n",
      "           4       1.00      1.00      1.00       572\n",
      "           5       1.00      1.00      1.00       647\n",
      "           6       1.00      1.00      1.00       568\n",
      "           7       1.00      1.00      1.00       576\n",
      "           8       1.00      1.00      1.00       601\n",
      "           9       1.00      1.00      1.00       598\n",
      "          10       1.00      0.99      0.99       631\n",
      "\n",
      "    accuracy                           1.00      6600\n",
      "   macro avg       1.00      1.00      1.00      6600\n",
      "weighted avg       1.00      1.00      1.00      6600\n",
      "\n"
     ]
    }
   ],
   "source": [
    "#Setting parameter grid\n",
    "\n",
    "param_grid = {'alpha': [0.1, 1, 5, 10]} \n",
    "tuned_mnb = Pipeline([\n",
    "                      ('mnb', GridSearchCV(MultinomialNB(),\n",
    "                                           param_grid=param_grid,\n",
    "                                           cv=5,n_jobs=-1,\n",
    "                                           scoring='f1_weighted'))\n",
    "                      ])\n",
    "\n",
    "#Fitting the model\n",
    "\n",
    "tuned_mnb.fit(X_train, y_train)  \n",
    "\n",
    "#Predicting the fit on validation set\n",
    "\n",
    "y_pred_mnb = tuned_mnb.predict(X_test)  \n",
    "print(classification_report(y_test, y_pred_mnb))\n"
   ]
  },
  {
   "cell_type": "code",
   "execution_count": 38,
   "id": "aced5ae8",
   "metadata": {},
   "outputs": [
    {
     "name": "stdout",
     "output_type": "stream",
     "text": [
      "Weighted f1_score : 0.9986348005407202\n"
     ]
    }
   ],
   "source": [
    "ac = f1_score(y_test, y_pred_mnb, average='weighted')\n",
    "cm = confusion_matrix(y_test, y_pred_mnb)\n",
    "\n",
    "print(\"Weighted f1_score :\",ac)\n"
   ]
  },
  {
   "cell_type": "markdown",
   "id": "9e1f45af",
   "metadata": {},
   "source": [
    "# Creating a file for submission"
   ]
  },
  {
   "cell_type": "code",
   "execution_count": 45,
   "id": "7a230048",
   "metadata": {},
   "outputs": [],
   "source": [
    "#Generating predictions\n",
    "\n",
    "Y_pred = tuned_mnb.predict(x_test) "
   ]
  },
  {
   "cell_type": "code",
   "execution_count": 46,
   "id": "547461c2",
   "metadata": {},
   "outputs": [],
   "source": [
    "#Creating a dataframe with the predictions\n",
    "\n",
    "submission = pd.DataFrame({'index':df_test['index'],'lang_id':Y_pred}) \n"
   ]
  },
  {
   "cell_type": "code",
   "execution_count": 47,
   "id": "29f65412",
   "metadata": {},
   "outputs": [],
   "source": [
    "#Replacing the encoded 'lang_id' column with its appropriate values\n",
    "\n",
    "submission['lang_id'] = submission['lang_id'].replace(list(le_name_mapping.values()),list(le_name_mapping.keys()))"
   ]
  },
  {
   "cell_type": "code",
   "execution_count": 48,
   "id": "d68593b8",
   "metadata": {},
   "outputs": [
    {
     "data": {
      "text/html": [
       "<div>\n",
       "<style scoped>\n",
       "    .dataframe tbody tr th:only-of-type {\n",
       "        vertical-align: middle;\n",
       "    }\n",
       "\n",
       "    .dataframe tbody tr th {\n",
       "        vertical-align: top;\n",
       "    }\n",
       "\n",
       "    .dataframe thead th {\n",
       "        text-align: right;\n",
       "    }\n",
       "</style>\n",
       "<table border=\"1\" class=\"dataframe\">\n",
       "  <thead>\n",
       "    <tr style=\"text-align: right;\">\n",
       "      <th></th>\n",
       "      <th>index</th>\n",
       "      <th>lang_id</th>\n",
       "    </tr>\n",
       "  </thead>\n",
       "  <tbody>\n",
       "    <tr>\n",
       "      <th>0</th>\n",
       "      <td>1</td>\n",
       "      <td>tsn</td>\n",
       "    </tr>\n",
       "    <tr>\n",
       "      <th>1</th>\n",
       "      <td>2</td>\n",
       "      <td>tsn</td>\n",
       "    </tr>\n",
       "    <tr>\n",
       "      <th>2</th>\n",
       "      <td>3</td>\n",
       "      <td>tsn</td>\n",
       "    </tr>\n",
       "    <tr>\n",
       "      <th>3</th>\n",
       "      <td>4</td>\n",
       "      <td>tsn</td>\n",
       "    </tr>\n",
       "    <tr>\n",
       "      <th>4</th>\n",
       "      <td>5</td>\n",
       "      <td>tsn</td>\n",
       "    </tr>\n",
       "  </tbody>\n",
       "</table>\n",
       "</div>"
      ],
      "text/plain": [
       "   index lang_id\n",
       "0      1     tsn\n",
       "1      2     tsn\n",
       "2      3     tsn\n",
       "3      4     tsn\n",
       "4      5     tsn"
      ]
     },
     "execution_count": 48,
     "metadata": {},
     "output_type": "execute_result"
    }
   ],
   "source": [
    "#Checking the created dataframe for correctness\n",
    "\n",
    "submission.head() "
   ]
  },
  {
   "cell_type": "code",
   "execution_count": 51,
   "id": "248f8e0d",
   "metadata": {},
   "outputs": [],
   "source": [
    "submission.to_csv(r'C:\\Users\\Consultant\\Desktop\\submission', index = False)\n",
    "\n"
   ]
  },
  {
   "cell_type": "code",
   "execution_count": null,
   "id": "eb6da2b4",
   "metadata": {},
   "outputs": [],
   "source": []
  }
 ],
 "metadata": {
  "kernelspec": {
   "display_name": "Python 3",
   "language": "python",
   "name": "python3"
  },
  "language_info": {
   "codemirror_mode": {
    "name": "ipython",
    "version": 3
   },
   "file_extension": ".py",
   "mimetype": "text/x-python",
   "name": "python",
   "nbconvert_exporter": "python",
   "pygments_lexer": "ipython3",
   "version": "3.9.12"
  }
 },
 "nbformat": 4,
 "nbformat_minor": 5
}
